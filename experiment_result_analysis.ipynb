{
 "cells": [
  {
   "cell_type": "code",
   "execution_count": 2,
   "metadata": {},
   "outputs": [],
   "source": [
    "\n",
    "import pandas as pd\n",
    "import numpy as np\n",
    "import matplotlib.pyplot as plt\n",
    "import os\n",
    "import re\n",
    "\n",
    "# read .xlsx file\n",
    "def read_xlsx_file(file_path):\n",
    "    df = pd.read_excel(file_path)\n",
    "    return df\n",
    "\n",
    "df = read_xlsx_file('/Users/Yasser/Projects/masters_thesis/Master_Thesis/Thesis_all_runs.xlsx')"
   ]
  },
  {
   "cell_type": "code",
   "execution_count": 3,
   "metadata": {},
   "outputs": [],
   "source": [
    "# get unique values of a column\n",
    "def get_unique_values(df, column_name):\n",
    "    return df[column_name].unique()\n",
    "\n",
    "# get unique values of a column\n",
    "unique_models = get_unique_values(df, 'model_name')"
   ]
  },
  {
   "cell_type": "code",
   "execution_count": 4,
   "metadata": {},
   "outputs": [
    {
     "name": "stdout",
     "output_type": "stream",
     "text": [
      "['raruidol/ArgumentMining-EN-ARI-Debate'\n",
      " 'reciprocate/vicuna-13b_rm_oasst-hh' 'lmsys/vicuna-13b-v1.5'\n",
      " 'bigscience/bloom-7b1' 'chkla/roberta-argument'\n",
      " 'raruidol/ArgumentMining-EN-AC-Essay-Fin' 'distilbert-base-uncased'\n",
      " 'bigscience/bloomz-1b1'\n",
      " 'pheinisch/roberta-base-150T-argumentative-sentence-detector'\n",
      " 'chavinlo/gpt4-x-alpaca' 'roberta-base'\n",
      " 'ahmedrachid/FinancialBERT-Sentiment-Analysis' 'bigscience/bloomz-7b1'\n",
      " 'ProsusAI/finbert' 'raruidol/ArgumentMining-EN-CN-ARI-Essay-Fin'\n",
      " 'raruidol/ArgumentMining-EN-AC-Financial' 'bert-base-uncased'\n",
      " 'nickmuchi/deberta-v3-base-finetuned-finance-text-classification'\n",
      " 'bigscience/bloom-560m' 'TheBloke/llama-2-7B-Guanaco-QLoRA-GPTQ'\n",
      " 'NLPScholars/Roberta-Earning-Call-Transcript-Classification']\n"
     ]
    }
   ],
   "source": [
    "print(unique_models)"
   ]
  },
  {
   "cell_type": "code",
   "execution_count": null,
   "metadata": {},
   "outputs": [],
   "source": [
    "models= {\n",
    "'raruidol/ArgumentMining-EN-ARI-Debate': {'size':125_000_000, 'architecture':'encoder_decoder', 'type':'debate_based_models'},\n",
    "'reciprocate/vicuna-13b_rm_oasst-hh':{'size':13_000_000_000, 'architecture':'Transformer-based', 'type':'general_purpose_models'}, \n",
    "'lmsys/vicuna-13b-v1.5': {'size':13_000_000_000, 'architecture':'Transformer-based', 'type':'general_purpose_models'},\n",
    "'bigscience/bloom-7b1': {'size':7_000_000_000, 'architecture':'Transformer-based', 'type':'general_purpose_models'}, \n",
    "'chkla/roberta-argument': {'size':125_000_000, 'architecture':'encoder_decoder', 'type':'debate_based_models'},\n",
    "'raruidol/ArgumentMining-EN-AC-Essay-Fin': {'size':561_000_000, 'architecture':'encoder_decoder', 'type':'debate_based_models'}, \n",
    "'distilbert-base-uncased': {'size':66_000_000, 'architecture':'encoder', 'type':'general_purpose_models'},\n",
    "'bigscience/bloomz-1b1': {'size':1_000_000_000, 'architecture':'Transformer-based', 'type':'general_purpose_models'},\n",
    "'pheinisch/roberta-base-150T-argumentative-sentence-detector':{'size':125_000_000, 'architecture':'encoder_decoder', 'type':'debate_based_models'}, \n",
    "'chavinlo/gpt4-x-alpaca': {'size':13_000_000_000, 'architecture':'Transformer-based', 'type':'general_purpose_models'}, \n",
    "'roberta-base':{'size':125_000_000, 'architecture':'encoder_decoder', 'type':'general_purpose_models'}, \n",
    "'ahmedrachid/FinancialBERT-Sentiment-Analysis':{'size':110_000_000, 'architecture':'encoder', 'type':'financial_base_models'},  \n",
    "'bigscience/bloomz-7b1': {'size':7_000_000_000, 'architecture':'Transformer-based', 'type':'general_purpose_models'},\n",
    "'ProsusAI/finbert':{'size':110_000_000, 'architecture':'encoder', 'type':'financial_base_models'}, \n",
    "'raruidol/ArgumentMining-EN-CN-ARI-Essay-Fin': {'size':561_000_000, 'architecture':'encoder_decoder', 'type':'debate_based_models'},\n",
    "'raruidol/ArgumentMining-EN-AC-Financial': {'size':561_000_000, 'architecture':'encoder_decoder', 'type':'debate_based_models'}, \n",
    "'bert-base-uncased': {'size':110_000_000, 'architecture':'encoder', 'type':'general_purpose_models'},\n",
    "'nickmuchi/deberta-v3-base-finetuned-finance-text-classification': {'size':184_000_000, 'architecture':'decoder', 'type':'financial_base_models'},\n",
    "'bigscience/bloom-560m': {'size':560_000_000, 'architecture':'Transformer-based', 'type':'general_purpose_models'}, \n",
    "'TheBloke/llama-2-7B-Guanaco-QLoRA-GPTQ':{'size':7_000_000_000, 'architecture':'Transformer-based', 'type':'general_purpose_models'},\n",
    "'NLPScholars/Roberta-Earning-Call-Transcript-Classification':{'size':125_000_000, 'architecture':'encoder_decoder', 'type':'financial_base_models'}, \n",
    "}"
   ]
  }
 ],
 "metadata": {
  "kernelspec": {
   "display_name": "Python 3",
   "language": "python",
   "name": "python3"
  },
  "language_info": {
   "codemirror_mode": {
    "name": "ipython",
    "version": 3
   },
   "file_extension": ".py",
   "mimetype": "text/x-python",
   "name": "python",
   "nbconvert_exporter": "python",
   "pygments_lexer": "ipython3",
   "version": "3.10.13"
  }
 },
 "nbformat": 4,
 "nbformat_minor": 2
}
